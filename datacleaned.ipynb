{
 "cells": [
  {
   "cell_type": "code",
   "execution_count": 27,
   "id": "5736cf5b",
   "metadata": {},
   "outputs": [],
   "source": [
    "import pandas as pd\n",
    "import numpy as np\n",
    "import os\n",
    "import seaborn as sns\n",
    "import matplotlib.pyplot as plt\n",
    "import warnings\n",
    "warnings.simplefilter(action=\"ignore\",category=FutureWarning)"
   ]
  },
  {
   "cell_type": "code",
   "execution_count": null,
   "id": "ed7bd7b4",
   "metadata": {},
   "outputs": [
    {
     "data": {
      "text/plain": [
       "(103024, 19)"
      ]
     },
     "execution_count": 4,
     "metadata": {},
     "output_type": "execute_result"
    }
   ],
   "source": [
    "# load data and exploar some data\n",
    "data = pd.read_csv(r\"C:\\Users\\91852\\Downloads\\data visullation project\\Bookings.csv\")\n",
    "data.head(4)\n",
    "data.tail(5)\n",
    "data.shape"
   ]
  },
  {
   "cell_type": "code",
   "execution_count": 5,
   "id": "8d170f41",
   "metadata": {},
   "outputs": [
    {
     "name": "stdout",
     "output_type": "stream",
     "text": [
      "<class 'pandas.core.frame.DataFrame'>\n",
      "RangeIndex: 103024 entries, 0 to 103023\n",
      "Data columns (total 19 columns):\n",
      " #   Column                      Non-Null Count   Dtype  \n",
      "---  ------                      --------------   -----  \n",
      " 0   Date                        103024 non-null  object \n",
      " 1   Time                        103024 non-null  float64\n",
      " 2   Booking_ID                  103024 non-null  object \n",
      " 3   Booking_Status              103024 non-null  object \n",
      " 4   Customer_ID                 103024 non-null  object \n",
      " 5   Vehicle_Type                103024 non-null  object \n",
      " 6   Pickup_Location             103024 non-null  object \n",
      " 7   Drop_Location               103024 non-null  object \n",
      " 8   V_TAT                       63967 non-null   float64\n",
      " 9   C_TAT                       63967 non-null   float64\n",
      " 10  Canceled_Rides_by_Customer  10499 non-null   object \n",
      " 11  Canceled_Rides_by_Driver    18434 non-null   object \n",
      " 12  Incomplete_Rides            63967 non-null   object \n",
      " 13  Incomplete_Rides_Reason     3926 non-null    object \n",
      " 14  Booking_Value               103024 non-null  int64  \n",
      " 15  Payment_Method              63967 non-null   object \n",
      " 16  Ride_Distance               103024 non-null  int64  \n",
      " 17  Driver_Ratings              63967 non-null   float64\n",
      " 18  Customer_Rating             63967 non-null   float64\n",
      "dtypes: float64(5), int64(2), object(12)\n",
      "memory usage: 14.9+ MB\n"
     ]
    }
   ],
   "source": [
    "data.info()"
   ]
  },
  {
   "cell_type": "code",
   "execution_count": null,
   "id": "cc991d3d",
   "metadata": {},
   "outputs": [
    {
     "data": {
      "text/plain": [
       "Date                              0\n",
       "Time                              0\n",
       "Booking_ID                        0\n",
       "Booking_Status                    0\n",
       "Customer_ID                       0\n",
       "Vehicle_Type                      0\n",
       "Pickup_Location                   0\n",
       "Drop_Location                     0\n",
       "V_TAT                         39057\n",
       "C_TAT                         39057\n",
       "Canceled_Rides_by_Customer    92525\n",
       "Canceled_Rides_by_Driver      84590\n",
       "Incomplete_Rides              39057\n",
       "Incomplete_Rides_Reason       99098\n",
       "Booking_Value                     0\n",
       "Payment_Method                39057\n",
       "Ride_Distance                     0\n",
       "Driver_Ratings                39057\n",
       "Customer_Rating               39057\n",
       "dtype: int64"
      ]
     },
     "execution_count": 6,
     "metadata": {},
     "output_type": "execute_result"
    }
   ],
   "source": [
    "# checing null in columns\n",
    "data.isnull().sum()"
   ]
  },
  {
   "cell_type": "code",
   "execution_count": 7,
   "id": "c83cf644",
   "metadata": {},
   "outputs": [
    {
     "data": {
      "text/plain": [
       "np.int64(510555)"
      ]
     },
     "execution_count": 7,
     "metadata": {},
     "output_type": "execute_result"
    }
   ],
   "source": [
    "# checking total number of null\n",
    "data.isnull().sum().sum()"
   ]
  },
  {
   "cell_type": "code",
   "execution_count": null,
   "id": "41e825b5",
   "metadata": {},
   "outputs": [
    {
     "data": {
      "text/plain": [
       "Date                           0.000000\n",
       "Time                           0.000000\n",
       "Booking_ID                     0.000000\n",
       "Booking_Status                 0.000000\n",
       "Customer_ID                    0.000000\n",
       "Vehicle_Type                   0.000000\n",
       "Pickup_Location                0.000000\n",
       "Drop_Location                  0.000000\n",
       "V_TAT                         37.910584\n",
       "C_TAT                         37.910584\n",
       "Canceled_Rides_by_Customer    89.809171\n",
       "Canceled_Rides_by_Driver      82.107082\n",
       "Incomplete_Rides              37.910584\n",
       "Incomplete_Rides_Reason       96.189237\n",
       "Booking_Value                  0.000000\n",
       "Payment_Method                37.910584\n",
       "Ride_Distance                  0.000000\n",
       "Driver_Ratings                37.910584\n",
       "Customer_Rating               37.910584\n",
       "dtype: float64"
      ]
     },
     "execution_count": 13,
     "metadata": {},
     "output_type": "execute_result"
    }
   ],
   "source": [
    "# columns wise missing data\n",
    "data.isnull().sum()/ len(data)*100"
   ]
  },
  {
   "cell_type": "code",
   "execution_count": null,
   "id": "3abc7f33",
   "metadata": {},
   "outputs": [
    {
     "data": {
      "text/plain": [
       "np.float64(26.08257861223956)"
      ]
     },
     "execution_count": 16,
     "metadata": {},
     "output_type": "execute_result"
    }
   ],
   "source": [
    "# overall missing data\n",
    "data.isnull().sum().sum() / (data.shape[0]*data.shape[1]) * 100"
   ]
  },
  {
   "cell_type": "code",
   "execution_count": 21,
   "id": "6006c09e",
   "metadata": {},
   "outputs": [
    {
     "data": {
      "image/png": "[encoded data removed]",
      "text/plain": [
       "<Figure size 640x480 with 1 Axes>"
      ]
     },
     "metadata": {},
     "output_type": "display_data"
    }
   ],
   "source": [
    "# missing values see in barplot\n",
    "missing_data = data.isnull().sum()\n",
    "missing_data = missing_data[missing_data > 0]\n",
    "\n",
    "plt.Figure(figsize=(10,6))\n",
    "missing_data.sort_values().plot(kind='barh',color='red')\n",
    "plt.title(\"missing values by column\")\n",
    "plt.xlabel(\"number of missing values\")\n",
    "plt.ylabel(\"columns\")\n",
    "plt.show()"
   ]
  },
  {
   "cell_type": "code",
   "execution_count": null,
   "id": "c72efc31",
   "metadata": {},
   "outputs": [
    {
     "name": "stdout",
     "output_type": "stream",
     "text": [
      "Time                 0.499045\n",
      "V_TAT              170.876952\n",
      "C_TAT               84.873372\n",
      "Booking_Value      548.751883\n",
      "Ride_Distance       14.189927\n",
      "Driver_Ratings       3.997457\n",
      "Customer_Rating      3.998313\n",
      "dtype: float64\n"
     ]
    }
   ],
   "source": [
    "# checking mean of data64 & float64\n",
    "numeric_cols = data.select_dtypes(include=[\"float64\",\"int64\"]).columns\n",
    "numeric_means = data[numeric_cols].mean()\n",
    "print(numeric_means)"
   ]
  },
  {
   "cell_type": "code",
   "execution_count": null,
   "id": "46afbda8",
   "metadata": {},
   "outputs": [],
   "source": [
    "# fill missing values with mean\n",
    "numeric_cols = data.select_dtypes(include=[\"float64\",\"int64\"]).columns\n",
    "for col in numeric_cols:\n",
    "    mean_vales = data[col].mean()\n",
    "    data[col].fillna(mean_vales,inplace=True)"
   ]
  },
  {
   "cell_type": "code",
   "execution_count": null,
   "id": "5fe010d7",
   "metadata": {},
   "outputs": [
    {
     "name": "stdout",
     "output_type": "stream",
     "text": [
      "Time               0\n",
      "V_TAT              0\n",
      "C_TAT              0\n",
      "Booking_Value      0\n",
      "Ride_Distance      0\n",
      "Driver_Ratings     0\n",
      "Customer_Rating    0\n",
      "dtype: int64\n"
     ]
    }
   ],
   "source": [
    "# checking missing values\n",
    "numeric_cols = data.select_dtypes(include=[\"float64\",\"int64\"]).columns\n",
    "null_in_numeric = data[numeric_cols].isnull().sum()\n",
    "print(null_in_numeric)"
   ]
  },
  {
   "cell_type": "code",
   "execution_count": null,
   "id": "ecfe7564",
   "metadata": {},
   "outputs": [
    {
     "name": "stdout",
     "output_type": "stream",
     "text": [
      "Date                              0\n",
      "Booking_ID                        0\n",
      "Booking_Status                    0\n",
      "Customer_ID                       0\n",
      "Vehicle_Type                      0\n",
      "Pickup_Location                   0\n",
      "Drop_Location                     0\n",
      "Canceled_Rides_by_Customer    92525\n",
      "Canceled_Rides_by_Driver      84590\n",
      "Incomplete_Rides              39057\n",
      "Incomplete_Rides_Reason       99098\n",
      "Payment_Method                39057\n",
      "dtype: int64\n"
     ]
    }
   ],
   "source": [
    "# checking missing values in object data type\n",
    "object_cols = data.select_dtypes(include=[\"object\"]).columns\n",
    "nulls_in_objects = data[object_cols].isnull().sum()\n",
    "print(nulls_in_objects)"
   ]
  },
  {
   "cell_type": "code",
   "execution_count": null,
   "id": "74026ca5",
   "metadata": {},
   "outputs": [
    {
     "data": {
      "image/png": "[encoded data removed]",
      "text/plain": [
       "<Figure size 640x480 with 1 Axes>"
      ]
     },
     "metadata": {},
     "output_type": "display_data"
    }
   ],
   "source": [
    "# see missing values in a barchart\n",
    "object_cols = data.select_dtypes(include=[\"object\"]).columns\n",
    "missing_object = data[object_cols].isnull().sum()\n",
    "missing_data = missing_data[missing_data > 0]\n",
    "\n",
    "plt.Figure(figsize=(10,6))\n",
    "missing_object.sort_values().plot(kind='barh',color=\"yellow\")\n",
    "plt.title(\"missing_values in object\")\n",
    "plt.xlabel(\"number of missing values\")\n",
    "plt.ylabel(\"columns\")\n",
    "plt.show()"
   ]
  },
  {
   "cell_type": "code",
   "execution_count": null,
   "id": "f06704b6",
   "metadata": {},
   "outputs": [
    {
     "name": "stdout",
     "output_type": "stream",
     "text": [
      "mode of all object\n",
      "Date: 01-07-2024 20:09\n",
      "Booking_ID: CNR1000051055\n",
      "Booking_Status: Success\n",
      "Customer_ID: CID954071\n",
      "Vehicle_Type: Prime Sedan\n",
      "Pickup_Location: Banashankari\n",
      "Drop_Location: Peenya\n",
      "Canceled_Rides_by_Customer: Driver is not moving towards pickup location\n",
      "Canceled_Rides_by_Driver: Personal & Car related issue\n",
      "Incomplete_Rides: No\n",
      "Incomplete_Rides_Reason: Customer Demand\n",
      "Payment_Method: Cash\n"
     ]
    }
   ],
   "source": [
    "# fill missing value with mode\n",
    "object_cols = data.select_dtypes(include=[\"object\"]).columns\n",
    "modes = {col: data[col].mode()[0] for col in object_cols}\n",
    "print(\"mode of all object\")\n",
    "for col,mode_value in modes.items():\n",
    "    print(f\"{col}: {mode_value}\")"
   ]
  },
  {
   "cell_type": "code",
   "execution_count": null,
   "id": "5dc4f076",
   "metadata": {},
   "outputs": [
    {
     "name": "stdout",
     "output_type": "stream",
     "text": [
      "Date                          0\n",
      "Booking_ID                    0\n",
      "Booking_Status                0\n",
      "Customer_ID                   0\n",
      "Vehicle_Type                  0\n",
      "Pickup_Location               0\n",
      "Drop_Location                 0\n",
      "Canceled_Rides_by_Customer    0\n",
      "Canceled_Rides_by_Driver      0\n",
      "Incomplete_Rides              0\n",
      "Incomplete_Rides_Reason       0\n",
      "Payment_Method                0\n",
      "dtype: int64\n"
     ]
    }
   ],
   "source": [
    "# filling missing data with the help of mode\n",
    "obj_cols = data.select_dtypes(['object']).columns\n",
    "mode_dict = {col: data[col].mode()[0] for col in obj_cols}\n",
    "data.fillna(value=mode_dict, inplace=True)\n",
    "\n",
    "print(data[obj_cols].isnull().sum())"
   ]
  },
  {
   "cell_type": "code",
   "execution_count": 37,
   "id": "6cf7ffa6",
   "metadata": {},
   "outputs": [
    {
     "data": {
      "text/plain": [
       "Date                          0\n",
       "Time                          0\n",
       "Booking_ID                    0\n",
       "Booking_Status                0\n",
       "Customer_ID                   0\n",
       "Vehicle_Type                  0\n",
       "Pickup_Location               0\n",
       "Drop_Location                 0\n",
       "V_TAT                         0\n",
       "C_TAT                         0\n",
       "Canceled_Rides_by_Customer    0\n",
       "Canceled_Rides_by_Driver      0\n",
       "Incomplete_Rides              0\n",
       "Incomplete_Rides_Reason       0\n",
       "Booking_Value                 0\n",
       "Payment_Method                0\n",
       "Ride_Distance                 0\n",
       "Driver_Ratings                0\n",
       "Customer_Rating               0\n",
       "dtype: int64"
      ]
     },
     "execution_count": 37,
     "metadata": {},
     "output_type": "execute_result"
    }
   ],
   "source": [
    "data.isnull().sum()"
   ]
  },
  {
   "cell_type": "code",
   "execution_count": null,
   "id": "41b377b1",
   "metadata": {},
   "outputs": [],
   "source": []
  }
 ],
 "metadata": {
  "kernelspec": {
   "display_name": "Python 3",
   "language": "python",
   "name": "python3"
  },
  "language_info": {
   "codemirror_mode": {
    "name": "ipython",
    "version": 3
   },
   "file_extension": ".py",
   "mimetype": "text/x-python",
   "name": "python",
   "nbconvert_exporter": "python",
   "pygments_lexer": "ipython3",
   "version": "3.13.6"
  }
 },
 "nbformat": 4,
 "nbformat_minor": 5
}
