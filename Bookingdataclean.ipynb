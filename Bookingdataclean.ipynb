{
 "cells": [
  {
   "cell_type": "code",
   "execution_count": 1,
   "id": "510a551a",
   "metadata": {},
   "outputs": [],
   "source": [
    "import pandas as pd\n",
    "import numpy as np\n",
    "import seaborn as sns\n",
    "import matplotlib.pyplot as plt\n",
    "import os"
   ]
  },
  {
   "cell_type": "code",
   "execution_count": 3,
   "id": "882e1a3a",
   "metadata": {},
   "outputs": [
    {
     "data": {
      "text/html": [
       "<div>\n",
       "<style scoped>\n",
       "    .dataframe tbody tr th:only-of-type {\n",
       "        vertical-align: middle;\n",
       "    }\n",
       "\n",
       "    .dataframe tbody tr th {\n",
       "        vertical-align: top;\n",
       "    }\n",
       "\n",
       "    .dataframe thead th {\n",
       "        text-align: right;\n",
       "    }\n",
       "</style>\n",
       "<table border=\"1\" class=\"dataframe\">\n",
       "  <thead>\n",
       "    <tr style=\"text-align: right;\">\n",
       "      <th></th>\n",
       "      <th>Date</th>\n",
       "      <th>Time</th>\n",
       "      <th>Booking_ID</th>\n",
       "      <th>Booking_Status</th>\n",
       "      <th>Customer_ID</th>\n",
       "      <th>Vehicle_Type</th>\n",
       "      <th>Pickup_Location</th>\n",
       "      <th>Drop_Location</th>\n",
       "      <th>V_TAT</th>\n",
       "      <th>C_TAT</th>\n",
       "      <th>Canceled_Rides_by_Customer</th>\n",
       "      <th>Canceled_Rides_by_Driver</th>\n",
       "      <th>Incomplete_Rides</th>\n",
       "      <th>Incomplete_Rides_Reason</th>\n",
       "      <th>Booking_Value</th>\n",
       "      <th>Payment_Method</th>\n",
       "      <th>Ride_Distance</th>\n",
       "      <th>Driver_Ratings</th>\n",
       "      <th>Customer_Rating</th>\n",
       "    </tr>\n",
       "  </thead>\n",
       "  <tbody>\n",
       "    <tr>\n",
       "      <th>0</th>\n",
       "      <td>26-07-2024 14:00</td>\n",
       "      <td>0.583333</td>\n",
       "      <td>CNR7153255142</td>\n",
       "      <td>Canceled by Driver</td>\n",
       "      <td>CID713523</td>\n",
       "      <td>Prime Sedan</td>\n",
       "      <td>Tumkur Road</td>\n",
       "      <td>RT Nagar</td>\n",
       "      <td>NaN</td>\n",
       "      <td>NaN</td>\n",
       "      <td>NaN</td>\n",
       "      <td>Personal &amp; Car related issue</td>\n",
       "      <td>NaN</td>\n",
       "      <td>NaN</td>\n",
       "      <td>444</td>\n",
       "      <td>NaN</td>\n",
       "      <td>0</td>\n",
       "      <td>NaN</td>\n",
       "      <td>NaN</td>\n",
       "    </tr>\n",
       "    <tr>\n",
       "      <th>1</th>\n",
       "      <td>25-07-2024 22:20</td>\n",
       "      <td>0.930556</td>\n",
       "      <td>CNR2940424040</td>\n",
       "      <td>Success</td>\n",
       "      <td>CID225428</td>\n",
       "      <td>Bike</td>\n",
       "      <td>Magadi Road</td>\n",
       "      <td>Varthur</td>\n",
       "      <td>203.0</td>\n",
       "      <td>30.0</td>\n",
       "      <td>NaN</td>\n",
       "      <td>NaN</td>\n",
       "      <td>No</td>\n",
       "      <td>NaN</td>\n",
       "      <td>158</td>\n",
       "      <td>Cash</td>\n",
       "      <td>13</td>\n",
       "      <td>4.1</td>\n",
       "      <td>4.0</td>\n",
       "    </tr>\n",
       "    <tr>\n",
       "      <th>2</th>\n",
       "      <td>30-07-2024 19:59</td>\n",
       "      <td>0.832639</td>\n",
       "      <td>CNR2982357879</td>\n",
       "      <td>Success</td>\n",
       "      <td>CID270156</td>\n",
       "      <td>Prime SUV</td>\n",
       "      <td>Sahakar Nagar</td>\n",
       "      <td>Varthur</td>\n",
       "      <td>238.0</td>\n",
       "      <td>130.0</td>\n",
       "      <td>NaN</td>\n",
       "      <td>NaN</td>\n",
       "      <td>No</td>\n",
       "      <td>NaN</td>\n",
       "      <td>386</td>\n",
       "      <td>UPI</td>\n",
       "      <td>40</td>\n",
       "      <td>4.2</td>\n",
       "      <td>4.8</td>\n",
       "    </tr>\n",
       "  </tbody>\n",
       "</table>\n",
       "</div>"
      ],
      "text/plain": [
       "               Date      Time     Booking_ID      Booking_Status Customer_ID  \\\n",
       "0  26-07-2024 14:00  0.583333  CNR7153255142  Canceled by Driver   CID713523   \n",
       "1  25-07-2024 22:20  0.930556  CNR2940424040             Success   CID225428   \n",
       "2  30-07-2024 19:59  0.832639  CNR2982357879             Success   CID270156   \n",
       "\n",
       "  Vehicle_Type Pickup_Location Drop_Location  V_TAT  C_TAT  \\\n",
       "0  Prime Sedan     Tumkur Road      RT Nagar    NaN    NaN   \n",
       "1         Bike     Magadi Road       Varthur  203.0   30.0   \n",
       "2    Prime SUV   Sahakar Nagar       Varthur  238.0  130.0   \n",
       "\n",
       "  Canceled_Rides_by_Customer      Canceled_Rides_by_Driver Incomplete_Rides  \\\n",
       "0                        NaN  Personal & Car related issue              NaN   \n",
       "1                        NaN                           NaN               No   \n",
       "2                        NaN                           NaN               No   \n",
       "\n",
       "  Incomplete_Rides_Reason  Booking_Value Payment_Method  Ride_Distance  \\\n",
       "0                     NaN            444            NaN              0   \n",
       "1                     NaN            158           Cash             13   \n",
       "2                     NaN            386            UPI             40   \n",
       "\n",
       "   Driver_Ratings  Customer_Rating  \n",
       "0             NaN              NaN  \n",
       "1             4.1              4.0  \n",
       "2             4.2              4.8  "
      ]
     },
     "execution_count": 3,
     "metadata": {},
     "output_type": "execute_result"
    }
   ],
   "source": [
    "os.path.exists(r\"C:\\Users\\91852\\Downloads\\Bookings.csv\")\n",
    "df = pd.read_csv(r\"C:\\Users\\91852\\Downloads\\Bookings.csv\")\n",
    "df.head(3)"
   ]
  },
  {
   "cell_type": "code",
   "execution_count": 4,
   "id": "44a55318",
   "metadata": {},
   "outputs": [
    {
     "name": "stdout",
     "output_type": "stream",
     "text": [
      "<class 'pandas.core.frame.DataFrame'>\n",
      "RangeIndex: 103024 entries, 0 to 103023\n",
      "Data columns (total 19 columns):\n",
      " #   Column                      Non-Null Count   Dtype  \n",
      "---  ------                      --------------   -----  \n",
      " 0   Date                        103024 non-null  object \n",
      " 1   Time                        103024 non-null  float64\n",
      " 2   Booking_ID                  103024 non-null  object \n",
      " 3   Booking_Status              103024 non-null  object \n",
      " 4   Customer_ID                 103024 non-null  object \n",
      " 5   Vehicle_Type                103024 non-null  object \n",
      " 6   Pickup_Location             103024 non-null  object \n",
      " 7   Drop_Location               103024 non-null  object \n",
      " 8   V_TAT                       63967 non-null   float64\n",
      " 9   C_TAT                       63967 non-null   float64\n",
      " 10  Canceled_Rides_by_Customer  10499 non-null   object \n",
      " 11  Canceled_Rides_by_Driver    18434 non-null   object \n",
      " 12  Incomplete_Rides            63967 non-null   object \n",
      " 13  Incomplete_Rides_Reason     3926 non-null    object \n",
      " 14  Booking_Value               103024 non-null  int64  \n",
      " 15  Payment_Method              63967 non-null   object \n",
      " 16  Ride_Distance               103024 non-null  int64  \n",
      " 17  Driver_Ratings              63967 non-null   float64\n",
      " 18  Customer_Rating             63967 non-null   float64\n",
      "dtypes: float64(5), int64(2), object(12)\n",
      "memory usage: 14.9+ MB\n"
     ]
    }
   ],
   "source": [
    "df.info()"
   ]
  },
  {
   "cell_type": "code",
   "execution_count": 5,
   "id": "a3be665e",
   "metadata": {},
   "outputs": [
    {
     "data": {
      "text/plain": [
       "(103024, 19)"
      ]
     },
     "execution_count": 5,
     "metadata": {},
     "output_type": "execute_result"
    }
   ],
   "source": [
    "df.shape"
   ]
  },
  {
   "cell_type": "code",
   "execution_count": null,
   "id": "95a7d3b6",
   "metadata": {},
   "outputs": [
    {
     "data": {
      "text/plain": [
       "Date                              0\n",
       "Time                              0\n",
       "Booking_ID                        0\n",
       "Booking_Status                    0\n",
       "Customer_ID                       0\n",
       "Vehicle_Type                      0\n",
       "Pickup_Location                   0\n",
       "Drop_Location                     0\n",
       "V_TAT                         39057\n",
       "C_TAT                         39057\n",
       "Canceled_Rides_by_Customer    92525\n",
       "Canceled_Rides_by_Driver      84590\n",
       "Incomplete_Rides              39057\n",
       "Incomplete_Rides_Reason       99098\n",
       "Booking_Value                     0\n",
       "Payment_Method                39057\n",
       "Ride_Distance                     0\n",
       "Driver_Ratings                39057\n",
       "Customer_Rating               39057\n",
       "dtype: int64"
      ]
     },
     "execution_count": 7,
     "metadata": {},
     "output_type": "execute_result"
    }
   ],
   "source": [
    "# check null values in each columns\n",
    "df.isnull().sum()\n"
   ]
  },
  {
   "cell_type": "code",
   "execution_count": null,
   "id": "fd52fb85",
   "metadata": {},
   "outputs": [
    {
     "data": {
      "image/png": "[encoded data removed]",
      "text/plain": [
       "<Figure size 640x480 with 2 Axes>"
      ]
     },
     "metadata": {},
     "output_type": "display_data"
    }
   ],
   "source": [
    "# checky null by map\n",
    "sns.heatmap(df.isnull().sum().to_frame(), annot=True, cmap=\"viridis\")\n",
    "plt.show()"
   ]
  },
  {
   "cell_type": "code",
   "execution_count": 9,
   "id": "788c7d91",
   "metadata": {},
   "outputs": [
    {
     "data": {
      "text/plain": [
       "np.int64(510555)"
      ]
     },
     "execution_count": 9,
     "metadata": {},
     "output_type": "execute_result"
    }
   ],
   "source": [
    "# check total number od null values\n",
    "df.isnull().sum().sum()"
   ]
  },
  {
   "cell_type": "code",
   "execution_count": null,
   "id": "71db0604",
   "metadata": {},
   "outputs": [
    {
     "data": {
      "text/plain": [
       "Date                           0.000000\n",
       "Time                           0.000000\n",
       "Booking_ID                     0.000000\n",
       "Booking_Status                 0.000000\n",
       "Customer_ID                    0.000000\n",
       "Vehicle_Type                   0.000000\n",
       "Pickup_Location                0.000000\n",
       "Drop_Location                  0.000000\n",
       "V_TAT                         37.910584\n",
       "C_TAT                         37.910584\n",
       "Canceled_Rides_by_Customer    89.809171\n",
       "Canceled_Rides_by_Driver      82.107082\n",
       "Incomplete_Rides              37.910584\n",
       "Incomplete_Rides_Reason       96.189237\n",
       "Booking_Value                  0.000000\n",
       "Payment_Method                37.910584\n",
       "Ride_Distance                  0.000000\n",
       "Driver_Ratings                37.910584\n",
       "Customer_Rating               37.910584\n",
       "dtype: float64"
      ]
     },
     "execution_count": 11,
     "metadata": {},
     "output_type": "execute_result"
    }
   ],
   "source": [
    "# showing the percentage of missing values in each column\n",
    "df.isnull().sum()/df.shape[0]*100"
   ]
  },
  {
   "cell_type": "code",
   "execution_count": null,
   "id": "3da2e702",
   "metadata": {},
   "outputs": [
    {
     "data": {
      "text/plain": [
       "np.float64(26.08257861223956)"
      ]
     },
     "execution_count": 15,
     "metadata": {},
     "output_type": "execute_result"
    }
   ],
   "source": [
    "# overall percentage of missing data\n",
    "df.isnull().sum().sum()/(df.shape[1]*df.shape[0])*100"
   ]
  },
  {
   "cell_type": "code",
   "execution_count": 41,
   "id": "96912210",
   "metadata": {},
   "outputs": [
    {
     "name": "stderr",
     "output_type": "stream",
     "text": [
      "C:\\Users\\91852\\AppData\\Local\\Temp\\ipykernel_20292\\2614124042.py:3: FutureWarning: A value is trying to be set on a copy of a DataFrame or Series through chained assignment using an inplace method.\n",
      "The behavior will change in pandas 3.0. This inplace method will never work because the intermediate object on which we are setting values always behaves as a copy.\n",
      "\n",
      "For example, when doing 'df[col].method(value, inplace=True)', try using 'df.method({col: value}, inplace=True)' or df[col] = df[col].method(value) instead, to perform the operation inplace on the original object.\n",
      "\n",
      "\n",
      "  df[\"V_TAT\"].fillna(df['V_TAT'].mean(),inplace=True)\n"
     ]
    },
    {
     "data": {
      "text/plain": [
       "np.int64(0)"
      ]
     },
     "execution_count": 41,
     "metadata": {},
     "output_type": "execute_result"
    }
   ],
   "source": [
    "# fill nulls with mean\n",
    "df['V_TAT'].mean()\n",
    "df[\"V_TAT\"].fillna(df['V_TAT'].mean(),inplace=True)\n",
    "df[\"V_TAT\"].isna().sum()"
   ]
  },
  {
   "cell_type": "code",
   "execution_count": null,
   "id": "6955329c",
   "metadata": {},
   "outputs": [
    {
     "name": "stderr",
     "output_type": "stream",
     "text": [
      "C:\\Users\\91852\\AppData\\Local\\Temp\\ipykernel_20292\\3522830857.py:3: SettingWithCopyWarning: \n",
      "A value is trying to be set on a copy of a slice from a DataFrame\n",
      "\n",
      "See the caveats in the documentation: https://pandas.pydata.org/pandas-docs/stable/user_guide/indexing.html#returning-a-view-versus-a-copy\n",
      "  df[df.select_dtypes(include=[\"float64\",\"int64\"]).columns].fillna(df[df.select_dtypes(include=[\"float64\",\"int64\"]).columns].mean(),inplace=True)\n"
     ]
    },
    {
     "data": {
      "text/plain": [
       "np.False_"
      ]
     },
     "execution_count": 57,
     "metadata": {},
     "output_type": "execute_result"
    }
   ],
   "source": [
    "# fill nulls with the help of mean in selected data types where we see nulls\n",
    "df.select_dtypes(include=[\"float64\",\"int64\"]).columns\n",
    "df[df.select_dtypes(include=[\"float64\",\"int64\"]).columns].mean()\n",
    "df[df.select_dtypes(include=[\"float64\",\"int64\"]).columns].fillna(df[df.select_dtypes(include=[\"float64\",\"int64\"]).columns].mean(),inplace=True)\n",
    "df.select_dtypes(include=[\"float64\",\"int64\"]).isnull().values.any()"
   ]
  },
  {
   "cell_type": "code",
   "execution_count": 60,
   "id": "39dc957f",
   "metadata": {},
   "outputs": [
    {
     "name": "stdout",
     "output_type": "stream",
     "text": [
      "No nulls\n"
     ]
    }
   ],
   "source": [
    "numeric_cols = df.select_dtypes(include=['float64', 'int64']).columns\n",
    "\n",
    "mean_values = df[numeric_cols].mean()\n",
    "\n",
    "df[numeric_cols] = df[numeric_cols].fillna(mean_values)\n",
    "\n",
    "null_counts = df[numeric_cols].isnull().sum()\n",
    "\n",
    "null_counts = null_counts[null_counts > 0]\n",
    "\n",
    "if null_counts.empty:\n",
    "    print(\"No nulls\")\n",
    "else:\n",
    "    plt.figure(figsize=(10, 6))\n",
    "    sns.barplot(x=null_counts.index, y=null_counts.values, palette=\"viridis\")\n",
    "    plt.title('Remaining Null Values in Numeric Columns (float64, int64)', fontsize=14)\n",
    "    plt.xlabel('Column Name', fontsize=12)\n",
    "    plt.ylabel('Count of Null Values', fontsize=12)\n",
    "    plt.xticks(rotation=45, ha='right')\n",
    "    plt.tight_layout()\n",
    "    plt.savefig('remaining_null_counts.png')\n",
    "    plt.close()\n",
    "    print(\"A bar chart showing 'remaining_null_counts.png' has been generated.\")\n",
    "    print(\"If this chart is blank, your mean imputation was fully successful.\")"
   ]
  },
  {
   "cell_type": "code",
   "execution_count": 66,
   "id": "d9578146",
   "metadata": {},
   "outputs": [
    {
     "name": "stdout",
     "output_type": "stream",
     "text": [
      "<class 'pandas.core.frame.DataFrame'>\n",
      "RangeIndex: 103024 entries, 0 to 103023\n",
      "Data columns (total 19 columns):\n",
      " #   Column                      Non-Null Count   Dtype  \n",
      "---  ------                      --------------   -----  \n",
      " 0   Date                        103024 non-null  object \n",
      " 1   Time                        103024 non-null  float64\n",
      " 2   Booking_ID                  103024 non-null  object \n",
      " 3   Booking_Status              103024 non-null  object \n",
      " 4   Customer_ID                 103024 non-null  object \n",
      " 5   Vehicle_Type                103024 non-null  object \n",
      " 6   Pickup_Location             103024 non-null  object \n",
      " 7   Drop_Location               103024 non-null  object \n",
      " 8   V_TAT                       103024 non-null  float64\n",
      " 9   C_TAT                       103024 non-null  float64\n",
      " 10  Canceled_Rides_by_Customer  10499 non-null   object \n",
      " 11  Canceled_Rides_by_Driver    18434 non-null   object \n",
      " 12  Incomplete_Rides            63967 non-null   object \n",
      " 13  Incomplete_Rides_Reason     3926 non-null    object \n",
      " 14  Booking_Value               103024 non-null  int64  \n",
      " 15  Payment_Method              63967 non-null   object \n",
      " 16  Ride_Distance               103024 non-null  int64  \n",
      " 17  Driver_Ratings              103024 non-null  float64\n",
      " 18  Customer_Rating             103024 non-null  float64\n",
      "dtypes: float64(5), int64(2), object(12)\n",
      "memory usage: 14.9+ MB\n"
     ]
    }
   ],
   "source": [
    "df.info()"
   ]
  },
  {
   "cell_type": "code",
   "execution_count": 68,
   "id": "46b35808",
   "metadata": {},
   "outputs": [
    {
     "data": {
      "text/plain": [
       "np.int64(354327)"
      ]
     },
     "execution_count": 68,
     "metadata": {},
     "output_type": "execute_result"
    }
   ],
   "source": [
    "# check null values in object type data\n",
    "df.select_dtypes(include=\"object\").isnull().sum()\n",
    "df.select_dtypes(include=\"object\").isnull().sum().sum()"
   ]
  },
  {
   "cell_type": "code",
   "execution_count": null,
   "id": "241e0a22",
   "metadata": {},
   "outputs": [
    {
     "name": "stderr",
     "output_type": "stream",
     "text": [
      "C:\\Users\\91852\\AppData\\Local\\Temp\\ipykernel_20292\\3444515140.py:13: FutureWarning: \n",
      "\n",
      "Passing `palette` without assigning `hue` is deprecated and will be removed in v0.14.0. Assign the `x` variable to `hue` and set `legend=False` for the same effect.\n",
      "\n",
      "  sns.barplot(x=obj_null.index, y=obj_null.values, palette='mako')\n"
     ]
    },
    {
     "data": {
      "image/png": "[encoded data removed]",
      "text/plain": [
       "<Figure size 800x400 with 1 Axes>"
      ]
     },
     "metadata": {},
     "output_type": "display_data"
    }
   ],
   "source": [
    "# see null values in a barplot\n",
    "import seaborn as sns\n",
    "import matplotlib.pyplot as plt\n",
    "\n",
    "obj_null = df.select_dtypes(include='object').isnull().sum()\n",
    "\n",
    "obj_null = obj_null[obj_null > 0]\n",
    "\n",
    "plt.figure(figsize=(8, 4))\n",
    "sns.barplot(x=obj_null.index, y=obj_null.values, palette='mako')\n",
    "plt.title('Missing Values in Object (Categorical) Columns', fontsize=14)\n",
    "plt.xlabel('Column Name')\n",
    "plt.ylabel('Number of Missing Values')\n",
    "plt.xticks(rotation=45)\n",
    "plt.show()\n"
   ]
  },
  {
   "cell_type": "code",
   "execution_count": null,
   "id": "52ea7009",
   "metadata": {},
   "outputs": [
    {
     "name": "stderr",
     "output_type": "stream",
     "text": [
      "C:\\Users\\91852\\AppData\\Local\\Temp\\ipykernel_20292\\1182411102.py:3: SettingWithCopyWarning: \n",
      "A value is trying to be set on a copy of a slice from a DataFrame\n",
      "\n",
      "See the caveats in the documentation: https://pandas.pydata.org/pandas-docs/stable/user_guide/indexing.html#returning-a-view-versus-a-copy\n",
      "  df[df.select_dtypes(include=[\"object\"]).columns].fillna(df[df.select_dtypes(include=[\"object\"]).columns].mode(),inplace=True)\n"
     ]
    },
    {
     "data": {
      "text/plain": [
       "np.True_"
      ]
     },
     "execution_count": 74,
     "metadata": {},
     "output_type": "execute_result"
    }
   ],
   "source": [
    "# fill null values with the help of mode in object data type\n",
    "df.select_dtypes(include=[\"object\"]).columns\n",
    "df[df.select_dtypes(include=[\"object\"]).columns].mode()\n",
    "df[df.select_dtypes(include=[\"object\"]).columns].fillna(df[df.select_dtypes(include=[\"object\"]).columns].mode(),inplace=True)\n",
    "df.select_dtypes(include=[\"object\"]).isnull().values.any()"
   ]
  },
  {
   "cell_type": "code",
   "execution_count": 78,
   "id": "3ffca0c4",
   "metadata": {},
   "outputs": [
    {
     "name": "stdout",
     "output_type": "stream",
     "text": [
      " No null values remaining in numeric columns. Mean imputation successful!\n"
     ]
    }
   ],
   "source": [
    "\n",
    "\n",
    "numeric_cols = df.select_dtypes(include=['float64', 'int64']).columns\n",
    "mean_values = df[numeric_cols].mean()\n",
    "df[numeric_cols] = df[numeric_cols].fillna(mean_values)\n",
    "\n",
    "null_counts = df[numeric_cols].isnull().sum()\n",
    "null_counts = null_counts[null_counts > 0]\n",
    "\n",
    "if null_counts.empty:\n",
    "    print(\" No null values remaining in numeric columns. Mean imputation successful!\")\n",
    "else:\n",
    "    plt.figure(figsize=(10, 6))\n",
    "    sns.barplot(x=null_counts.index, y=null_counts.values, palette=\"viridis\")\n",
    "    plt.title('Remaining Null Values in Numeric Columns (float64, int64)', fontsize=14)\n",
    "    plt.xlabel('Column Name', fontsize=12)\n",
    "    plt.ylabel('Count of Null Values', fontsize=12)\n",
    "    plt.xticks(rotation=45, ha='right')\n",
    "    plt.tight_layout()\n",
    "    plt.savefig('remaining_null_counts.png', dpi=300)\n",
    "    plt.close()\n",
    "    print(\"A bar chart ('remaining_null_counts.png') has been generated.\")\n",
    "    print(\"If this chart is blank, your mean imputation was fully successful.\")\n"
   ]
  },
  {
   "cell_type": "code",
   "execution_count": 81,
   "id": "587e3c57",
   "metadata": {},
   "outputs": [],
   "source": [
    "obj_nulls = df.select_dtypes(include='object').isnull().sum()\n",
    "obj_nulls = obj_nulls[obj_nulls > 0]\n",
    "obj_nulls\n",
    "text_cols = df.select_dtypes(include=['object', 'string', 'category']).columns\n",
    "\n",
    "for col in text_cols:\n",
    "    if df[col].isnull().sum() > 0:\n",
    "        if not df[col].mode().empty:\n",
    "            df[col] = df[col].fillna(df[col].mode()[0])\n",
    "        else:\n",
    "            df[col] = df[col].fillna(\"Unknown\")\n",
    "\n",
    "\n"
   ]
  },
  {
   "cell_type": "code",
   "execution_count": 82,
   "id": "6e189fe3",
   "metadata": {},
   "outputs": [
    {
     "data": {
      "text/plain": [
       "np.int64(0)"
      ]
     },
     "execution_count": 82,
     "metadata": {},
     "output_type": "execute_result"
    }
   ],
   "source": [
    "df.select_dtypes(include=['object', 'string', 'category']).isnull().sum().sum()\n"
   ]
  },
  {
   "cell_type": "code",
   "execution_count": null,
   "id": "8ee640cc",
   "metadata": {},
   "outputs": [
    {
     "name": "stdout",
     "output_type": "stream",
     "text": [
      "✅ No null values found in object-type columns.\n"
     ]
    }
   ],
   "source": [
    "import seaborn as sns\n",
    "import matplotlib.pyplot as plt\n",
    "\n",
    "# Select only object/string/category columns\n",
    "obj_cols = df.select_dtypes(include=['object', 'string', 'category'])\n",
    "\n",
    "# Count null values in those columns\n",
    "obj_null = obj_cols.isnull().sum()\n",
    "obj_null = obj_null[obj_null > 0]\n",
    "\n",
    "# Plot the bar graph if any nulls exist\n",
    "if not obj_null.empty:\n",
    "    plt.figure(figsize=(10, 5))\n",
    "    sns.barplot(x=obj_null.index, y=obj_null.values, palette='mako')\n",
    "    plt.title('Null Values in Object Columns', fontsize=14)\n",
    "    plt.xlabel('Column Name', fontsize=12)\n",
    "    plt.ylabel('Count of Null Values', fontsize=12)\n",
    "    plt.xticks(rotation=45, ha='right')\n",
    "    plt.tight_layout()\n",
    "    plt.show()\n",
    "else:\n",
    "    print(\" No null values found in object-type columns.\")\n"
   ]
  },
  {
   "cell_type": "code",
   "execution_count": null,
   "id": "119f1d4d",
   "metadata": {},
   "outputs": [
    {
     "data": {
      "text/plain": [
       "np.int64(0)"
      ]
     },
     "execution_count": 90,
     "metadata": {},
     "output_type": "execute_result"
    }
   ],
   "source": [
    "# finall check is there any null values\n",
    "df.isnull().sum().sum()"
   ]
  },
  {
   "cell_type": "code",
   "execution_count": null,
   "id": "83f41ede",
   "metadata": {},
   "outputs": [],
   "source": []
  }
 ],
 "metadata": {
  "kernelspec": {
   "display_name": "Python 3",
   "language": "python",
   "name": "python3"
  },
  "language_info": {
   "codemirror_mode": {
    "name": "ipython",
    "version": 3
   },
   "file_extension": ".py",
   "mimetype": "text/x-python",
   "name": "python",
   "nbconvert_exporter": "python",
   "pygments_lexer": "ipython3",
   "version": "3.13.6"
  }
 },
 "nbformat": 4,
 "nbformat_minor": 5
}
